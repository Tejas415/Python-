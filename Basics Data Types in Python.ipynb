{
 "cells": [
  {
   "cell_type": "markdown",
   "id": "4143862b-0624-40b9-817a-5ec1c7d5be30",
   "metadata": {},
   "source": [
    "## PYTHON"
   ]
  },
  {
   "cell_type": "markdown",
   "id": "e7a4f3b3-7210-4d4d-85e5-ce5e5836b27d",
   "metadata": {},
   "source": [
    "Data Types"
   ]
  },
  {
   "cell_type": "raw",
   "id": "7e304133-2107-450d-9921-80b5faaf959b",
   "metadata": {},
   "source": [
    "Number\n",
    "Types: Integers and Floating Point"
   ]
  },
  {
   "cell_type": "code",
   "execution_count": 1,
   "id": "01f15e65-e3e2-485d-943f-93e00d9d295b",
   "metadata": {},
   "outputs": [
    {
     "data": {
      "text/plain": [
       "int"
      ]
     },
     "execution_count": 1,
     "metadata": {},
     "output_type": "execute_result"
    }
   ],
   "source": [
    "a=12\n",
    "type(a)"
   ]
  },
  {
   "cell_type": "code",
   "execution_count": 2,
   "id": "f02f7099-a9eb-44eb-a75b-715146ccf28d",
   "metadata": {},
   "outputs": [
    {
     "data": {
      "text/plain": [
       "float"
      ]
     },
     "execution_count": 2,
     "metadata": {},
     "output_type": "execute_result"
    }
   ],
   "source": [
    "b=12.234\n",
    "type(b)"
   ]
  },
  {
   "cell_type": "code",
   "execution_count": 3,
   "id": "1674dbb6-c461-44d3-afa0-533df14b4266",
   "metadata": {},
   "outputs": [
    {
     "data": {
      "text/plain": [
       "24.234"
      ]
     },
     "execution_count": 3,
     "metadata": {},
     "output_type": "execute_result"
    }
   ],
   "source": [
    "c=a+b\n",
    "c"
   ]
  },
  {
   "cell_type": "code",
   "execution_count": 4,
   "id": "b0a7d00e-f08a-44d0-8ced-8d08cf1b9fd2",
   "metadata": {},
   "outputs": [
    {
     "data": {
      "text/plain": [
       "float"
      ]
     },
     "execution_count": 4,
     "metadata": {},
     "output_type": "execute_result"
    }
   ],
   "source": [
    "type(c)"
   ]
  },
  {
   "cell_type": "raw",
   "id": "e6805365-3d73-4a3a-9a9a-4550685e7336",
   "metadata": {},
   "source": [
    "Operations on numbers"
   ]
  },
  {
   "cell_type": "code",
   "execution_count": 5,
   "id": "1719db84-e9aa-4231-8c41-0971a1f5bb32",
   "metadata": {},
   "outputs": [],
   "source": [
    "a=20\n",
    "b=4"
   ]
  },
  {
   "cell_type": "code",
   "execution_count": 6,
   "id": "74f94ed0-61cd-426e-9b8e-ad892e0d46d0",
   "metadata": {},
   "outputs": [
    {
     "data": {
      "text/plain": [
       "24"
      ]
     },
     "execution_count": 6,
     "metadata": {},
     "output_type": "execute_result"
    }
   ],
   "source": [
    "#Adding\n",
    "a+b"
   ]
  },
  {
   "cell_type": "code",
   "execution_count": 7,
   "id": "92e9b4ee-f95a-4113-973c-347d2814f932",
   "metadata": {},
   "outputs": [
    {
     "data": {
      "text/plain": [
       "16"
      ]
     },
     "execution_count": 7,
     "metadata": {},
     "output_type": "execute_result"
    }
   ],
   "source": [
    "#Subtracting\n",
    "a-b"
   ]
  },
  {
   "cell_type": "code",
   "execution_count": 8,
   "id": "f85dd61e-de13-40ac-971c-b4105ffe6f9b",
   "metadata": {},
   "outputs": [
    {
     "data": {
      "text/plain": [
       "80"
      ]
     },
     "execution_count": 8,
     "metadata": {},
     "output_type": "execute_result"
    }
   ],
   "source": [
    "#Multiplying\n",
    "a*b"
   ]
  },
  {
   "cell_type": "code",
   "execution_count": 9,
   "id": "5bc5a3da-2dfb-4885-918c-13ac1ebed22a",
   "metadata": {},
   "outputs": [
    {
     "data": {
      "text/plain": [
       "5.0"
      ]
     },
     "execution_count": 9,
     "metadata": {},
     "output_type": "execute_result"
    }
   ],
   "source": [
    "#Division ( '/' ) gives the floating point result \n",
    "a/b"
   ]
  },
  {
   "cell_type": "code",
   "execution_count": 10,
   "id": "fe16ac57-b889-4624-a603-4e3b852528eb",
   "metadata": {},
   "outputs": [
    {
     "data": {
      "text/plain": [
       "5"
      ]
     },
     "execution_count": 10,
     "metadata": {},
     "output_type": "execute_result"
    }
   ],
   "source": [
    "# In division ( '//' ) gives the result as in integer\n",
    "a//b"
   ]
  },
  {
   "cell_type": "code",
   "execution_count": 11,
   "id": "e6f95280-7b4e-43e5-a810-278b53cbb9b1",
   "metadata": {},
   "outputs": [
    {
     "data": {
      "text/plain": [
       "0"
      ]
     },
     "execution_count": 11,
     "metadata": {},
     "output_type": "execute_result"
    }
   ],
   "source": [
    "#gives remainder\n",
    "10%2"
   ]
  },
  {
   "cell_type": "code",
   "execution_count": 12,
   "id": "5541ff78-2972-448f-a9ea-95fbb7035460",
   "metadata": {},
   "outputs": [
    {
     "data": {
      "text/plain": [
       "1"
      ]
     },
     "execution_count": 12,
     "metadata": {},
     "output_type": "execute_result"
    }
   ],
   "source": [
    "13%2"
   ]
  },
  {
   "cell_type": "code",
   "execution_count": 13,
   "id": "70ca308c-f397-4bfa-b6f0-00f12d75189f",
   "metadata": {},
   "outputs": [
    {
     "data": {
      "text/plain": [
       "8"
      ]
     },
     "execution_count": 13,
     "metadata": {},
     "output_type": "execute_result"
    }
   ],
   "source": [
    "#gives raised to result\n",
    "2**3"
   ]
  },
  {
   "cell_type": "code",
   "execution_count": 14,
   "id": "145fce80-3502-47e1-b5c3-1d020a617bf2",
   "metadata": {},
   "outputs": [
    {
     "data": {
      "text/plain": [
       "144"
      ]
     },
     "execution_count": 14,
     "metadata": {},
     "output_type": "execute_result"
    }
   ],
   "source": [
    "12**2"
   ]
  },
  {
   "cell_type": "code",
   "execution_count": 15,
   "id": "97da234b-fc31-4a44-a2e0-cb62796e2af4",
   "metadata": {},
   "outputs": [
    {
     "data": {
      "text/plain": [
       "324"
      ]
     },
     "execution_count": 15,
     "metadata": {},
     "output_type": "execute_result"
    }
   ],
   "source": [
    "18**2"
   ]
  },
  {
   "cell_type": "code",
   "execution_count": 16,
   "id": "3da6966f-8b00-44e0-8fe0-7eec27a630f7",
   "metadata": {},
   "outputs": [
    {
     "data": {
      "text/plain": [
       "232"
      ]
     },
     "execution_count": 16,
     "metadata": {},
     "output_type": "execute_result"
    }
   ],
   "source": [
    "(12**2)*2-(13**2)//3"
   ]
  },
  {
   "cell_type": "code",
   "execution_count": 17,
   "id": "74664517-6cf2-498e-9df2-29ad24663b44",
   "metadata": {},
   "outputs": [
    {
     "data": {
      "text/plain": [
       "15648.0"
      ]
     },
     "execution_count": 17,
     "metadata": {},
     "output_type": "execute_result"
    }
   ],
   "source": [
    "23+(25*5)**2-6/2*(12%6)"
   ]
  },
  {
   "cell_type": "raw",
   "id": "31638b26-c010-47dc-8332-81a53c1aca1f",
   "metadata": {},
   "source": [
    "Booleans"
   ]
  },
  {
   "cell_type": "code",
   "execution_count": 18,
   "id": "57ebc657-052a-4615-82e5-6d3a55144ac2",
   "metadata": {},
   "outputs": [
    {
     "data": {
      "text/plain": [
       "bool"
      ]
     },
     "execution_count": 18,
     "metadata": {},
     "output_type": "execute_result"
    }
   ],
   "source": [
    "a=True\n",
    "type(a)"
   ]
  },
  {
   "cell_type": "code",
   "execution_count": 19,
   "id": "8b3c43cb-8745-4987-b956-fbd293918404",
   "metadata": {},
   "outputs": [
    {
     "data": {
      "text/plain": [
       "bool"
      ]
     },
     "execution_count": 19,
     "metadata": {},
     "output_type": "execute_result"
    }
   ],
   "source": [
    "z=False\n",
    "type(z)"
   ]
  },
  {
   "cell_type": "raw",
   "id": "18131e4a-4c59-46c8-9cd4-9eb215adbcfc",
   "metadata": {},
   "source": [
    "Strings"
   ]
  },
  {
   "cell_type": "code",
   "execution_count": 20,
   "id": "d6413893-ca4f-41b2-ad29-cfe2df5f23fd",
   "metadata": {},
   "outputs": [
    {
     "data": {
      "text/plain": [
       "'Hi I am sanket here'"
      ]
     },
     "execution_count": 20,
     "metadata": {},
     "output_type": "execute_result"
    }
   ],
   "source": [
    "s='Hi I am sanket here'\n",
    "s"
   ]
  },
  {
   "cell_type": "code",
   "execution_count": 21,
   "id": "6828f786-b981-4623-b129-1dcef672dc10",
   "metadata": {},
   "outputs": [
    {
     "data": {
      "text/plain": [
       "'Good Morning'"
      ]
     },
     "execution_count": 21,
     "metadata": {},
     "output_type": "execute_result"
    }
   ],
   "source": [
    "\"Good Morning\""
   ]
  },
  {
   "cell_type": "code",
   "execution_count": 22,
   "id": "02de5628-adfe-4607-8b3c-51e2d88c377d",
   "metadata": {},
   "outputs": [
    {
     "name": "stdin",
     "output_type": "stream",
     "text": [
      "enter age: 21\n",
      "enter the designation: Data Analyst\n"
     ]
    }
   ],
   "source": [
    "a=int(input('enter age:'))\n",
    "b=input('enter the designation:')"
   ]
  },
  {
   "cell_type": "code",
   "execution_count": 23,
   "id": "ae3b7ae4-4f6c-4796-8413-1a9118a7dbbe",
   "metadata": {},
   "outputs": [
    {
     "name": "stdout",
     "output_type": "stream",
     "text": [
      "Hi I am sanket here\n",
      "I am 21 years old and I am Data Analyst now.\n"
     ]
    }
   ],
   "source": [
    "#Formating string\n",
    "print(s+'\\nI am {} years old and I am {} now.'.format(a,b))"
   ]
  },
  {
   "cell_type": "code",
   "execution_count": 24,
   "id": "eb08a4b0-e36a-42bc-8457-e9d800138434",
   "metadata": {},
   "outputs": [
    {
     "name": "stdout",
     "output_type": "stream",
     "text": [
      "Hi I am sanket here\n",
      "I am 21 years old and I am Data Analyst now.\n"
     ]
    }
   ],
   "source": [
    "#another method for formating\n",
    "print(s+f'\\nI am {a} years old and I am {b} now.')"
   ]
  },
  {
   "cell_type": "code",
   "execution_count": 25,
   "id": "907f7541-fbf3-4228-b9df-8b2dd345248d",
   "metadata": {},
   "outputs": [
    {
     "data": {
      "text/plain": [
       "'H'"
      ]
     },
     "execution_count": 25,
     "metadata": {},
     "output_type": "execute_result"
    }
   ],
   "source": [
    "#indexing\n",
    "s[0]"
   ]
  },
  {
   "cell_type": "code",
   "execution_count": 26,
   "id": "7cc87acd-04ae-49aa-836a-043ddfca573c",
   "metadata": {},
   "outputs": [
    {
     "data": {
      "text/plain": [
       "'e'"
      ]
     },
     "execution_count": 26,
     "metadata": {},
     "output_type": "execute_result"
    }
   ],
   "source": [
    "s[12]"
   ]
  },
  {
   "cell_type": "code",
   "execution_count": 27,
   "id": "fd229558-97a2-42ae-a811-3a4a1fb825cd",
   "metadata": {},
   "outputs": [
    {
     "data": {
      "text/plain": [
       "'sanket'"
      ]
     },
     "execution_count": 27,
     "metadata": {},
     "output_type": "execute_result"
    }
   ],
   "source": [
    "#slicing it takes two indexes as 1st is included in output result and 2nd is not included\n",
    "s[8:14]"
   ]
  },
  {
   "cell_type": "code",
   "execution_count": 28,
   "id": "ebcbb75a-6bf1-44e9-b197-13980a4a6739",
   "metadata": {},
   "outputs": [
    {
     "data": {
      "text/plain": [
       "'sanket here'"
      ]
     },
     "execution_count": 28,
     "metadata": {},
     "output_type": "execute_result"
    }
   ],
   "source": [
    "#if 2nd index argument is not passed it prints uptil end\n",
    "s[8:]"
   ]
  },
  {
   "cell_type": "code",
   "execution_count": 29,
   "id": "5efccda7-6cde-4356-82db-c472725a063e",
   "metadata": {},
   "outputs": [
    {
     "data": {
      "text/plain": [
       "'Hi I'"
      ]
     },
     "execution_count": 29,
     "metadata": {},
     "output_type": "execute_result"
    }
   ],
   "source": [
    "#if 1st index is not privided it prints result from 1st index of string\n",
    "s[:4]"
   ]
  },
  {
   "cell_type": "code",
   "execution_count": 30,
   "id": "728a7806-ae7b-4ef1-983b-e8e521b42325",
   "metadata": {},
   "outputs": [
    {
     "data": {
      "text/plain": [
       "'here ,we go for our trip'"
      ]
     },
     "execution_count": 30,
     "metadata": {},
     "output_type": "execute_result"
    }
   ],
   "source": [
    "str='here ,we go for our trip'\n",
    "str"
   ]
  },
  {
   "cell_type": "code",
   "execution_count": 31,
   "id": "060494ce-d538-4d3b-af9f-8ccf90b0c3c2",
   "metadata": {},
   "outputs": [
    {
     "data": {
      "text/plain": [
       "'HERE ,WE GO FOR OUR TRIP'"
      ]
     },
     "execution_count": 31,
     "metadata": {},
     "output_type": "execute_result"
    }
   ],
   "source": [
    "str.upper()"
   ]
  },
  {
   "cell_type": "code",
   "execution_count": 32,
   "id": "39f087dd-177b-47e6-b380-14d86ef83f16",
   "metadata": {},
   "outputs": [
    {
     "data": {
      "text/plain": [
       "['here ', 'we go for our trip']"
      ]
     },
     "execution_count": 32,
     "metadata": {},
     "output_type": "execute_result"
    }
   ],
   "source": [
    "str.split(',') #split method by default will split the string on all the white spaces of that string"
   ]
  },
  {
   "cell_type": "code",
   "execution_count": 33,
   "id": "eaf45a65-4e51-4484-88a2-7311de70a303",
   "metadata": {},
   "outputs": [
    {
     "data": {
      "text/plain": [
       "'Sun is# ,very @,hot @today'"
      ]
     },
     "execution_count": 33,
     "metadata": {},
     "output_type": "execute_result"
    }
   ],
   "source": [
    "s='Sun is# ,very @,hot @today'\n",
    "s"
   ]
  },
  {
   "cell_type": "code",
   "execution_count": 34,
   "id": "de52b5eb-df6e-45d2-a6e6-ad1024e869c9",
   "metadata": {},
   "outputs": [
    {
     "data": {
      "text/plain": [
       "['Sun is# ', 'very @', 'hot @today']"
      ]
     },
     "execution_count": 34,
     "metadata": {},
     "output_type": "execute_result"
    }
   ],
   "source": [
    "s.split(',')"
   ]
  },
  {
   "cell_type": "code",
   "execution_count": 35,
   "id": "fff5cf6e-5cd5-44d0-b5ce-5c57be1a59b4",
   "metadata": {},
   "outputs": [
    {
     "data": {
      "text/plain": [
       "['Sun is# ,very ', ',hot ', 'today']"
      ]
     },
     "execution_count": 35,
     "metadata": {},
     "output_type": "execute_result"
    }
   ],
   "source": [
    "s.split('@')"
   ]
  },
  {
   "cell_type": "code",
   "execution_count": 36,
   "id": "4d578b40-fcb5-4df7-80e4-8b52d5f2feee",
   "metadata": {},
   "outputs": [
    {
     "data": {
      "text/plain": [
       "'today'"
      ]
     },
     "execution_count": 36,
     "metadata": {},
     "output_type": "execute_result"
    }
   ],
   "source": [
    "s.split('@')[2]"
   ]
  },
  {
   "cell_type": "code",
   "execution_count": 37,
   "id": "474f9f69-c987-4ccb-934f-4f4212b3e3d5",
   "metadata": {},
   "outputs": [
    {
     "data": {
      "text/plain": [
       "['Sun is', ' ,very @,hot @today']"
      ]
     },
     "execution_count": 37,
     "metadata": {},
     "output_type": "execute_result"
    }
   ],
   "source": [
    "s.split('#')"
   ]
  },
  {
   "cell_type": "code",
   "execution_count": 38,
   "id": "bb25a111-21c9-451f-889d-053ccb8e4f91",
   "metadata": {},
   "outputs": [
    {
     "data": {
      "text/plain": [
       "'An apple a day keep doctor away.'"
      ]
     },
     "execution_count": 38,
     "metadata": {},
     "output_type": "execute_result"
    }
   ],
   "source": [
    "str=\"An apple a day keep doctor away.\"\n",
    "str"
   ]
  },
  {
   "cell_type": "code",
   "execution_count": 39,
   "id": "e59661ee-9d18-4b9a-8d0e-6f8e3186d546",
   "metadata": {},
   "outputs": [
    {
     "data": {
      "text/plain": [
       "'An $pple $ d$y keep doctor $w$y.'"
      ]
     },
     "execution_count": 39,
     "metadata": {},
     "output_type": "execute_result"
    }
   ],
   "source": [
    "s=str.replace('a','$')\n",
    "s"
   ]
  },
  {
   "cell_type": "code",
   "execution_count": 40,
   "id": "11b8d9ee-412c-43d9-ae48-0c61b8b50e20",
   "metadata": {},
   "outputs": [
    {
     "data": {
      "text/plain": [
       "'$n apple a day keep doctor away.'"
      ]
     },
     "execution_count": 40,
     "metadata": {},
     "output_type": "execute_result"
    }
   ],
   "source": [
    "st=str.replace('a'.upper(),'$')\n",
    "st"
   ]
  },
  {
   "cell_type": "code",
   "execution_count": 41,
   "id": "6c551163-9f72-4ea5-9303-5da298d7393f",
   "metadata": {},
   "outputs": [
    {
     "data": {
      "text/plain": [
       "'AN APPLE A DAY KEEP DOCTOR AWAY.'"
      ]
     },
     "execution_count": 41,
     "metadata": {},
     "output_type": "execute_result"
    }
   ],
   "source": [
    "str.upper()"
   ]
  },
  {
   "cell_type": "code",
   "execution_count": 42,
   "id": "8f4c09e1-edaf-4c47-9107-1d314de70aab",
   "metadata": {},
   "outputs": [
    {
     "name": "stdout",
     "output_type": "stream",
     "text": [
      "{'A': 1, 'n': 1, ' ': 6, 'a': 5, 'p': 3, 'l': 1, 'e': 3, 'd': 2, 'y': 2, 'k': 1, 'o': 2, 'c': 1, 't': 1, 'r': 1, 'w': 1, '.': 1}\n"
     ]
    }
   ],
   "source": [
    "#counting the number of characters in a string\n",
    "s={}\n",
    "for i in str:\n",
    "    if i in s:\n",
    "        s[i]+=1\n",
    "    else:\n",
    "        s[i]=1\n",
    "print(s)"
   ]
  },
  {
   "cell_type": "code",
   "execution_count": 43,
   "id": "a82ef8b6-7e39-46ed-9ffc-3969d1fe11dc",
   "metadata": {},
   "outputs": [
    {
     "data": {
      "text/plain": [
       "32"
      ]
     },
     "execution_count": 43,
     "metadata": {},
     "output_type": "execute_result"
    }
   ],
   "source": [
    "len(str)"
   ]
  },
  {
   "cell_type": "code",
   "execution_count": 44,
   "id": "8ee08ba3-3e88-4ff7-89a9-65ab4f0fb613",
   "metadata": {},
   "outputs": [
    {
     "name": "stdout",
     "output_type": "stream",
     "text": [
      "32\n"
     ]
    }
   ],
   "source": [
    "#length of string without using inbuilt function.\n",
    "count=0\n",
    "for i in str:\n",
    "    count+=1\n",
    "print(count)"
   ]
  },
  {
   "cell_type": "code",
   "execution_count": 45,
   "id": "c2ea986c-b890-4090-835f-205f0a17be64",
   "metadata": {},
   "outputs": [
    {
     "name": "stdout",
     "output_type": "stream",
     "text": [
      "string is palindrome\n"
     ]
    }
   ],
   "source": [
    "#check string is palindrome or not\n",
    "str='MALAYALAM'\n",
    "if (str==str[::-1]):\n",
    "    print('string is palindrome')\n",
    "else:\n",
    "    print('string is not palindrome')"
   ]
  },
  {
   "cell_type": "code",
   "execution_count": 46,
   "id": "5ff8a39c-3b34-473f-b12b-449e9c7da5c3",
   "metadata": {},
   "outputs": [
    {
     "name": "stdout",
     "output_type": "stream",
     "text": [
      "Hi sanket-12334534,hello.\n",
      "letters: 13\n",
      "digit: 8\n"
     ]
    }
   ],
   "source": [
    "s='Hi sanket-12334534,hello.'\n",
    "d=l=0\n",
    "for i in s:\n",
    "    if i.isdigit():\n",
    "        d+=1\n",
    "    elif i.isalpha():\n",
    "        l+=1\n",
    "    else:\n",
    "        pass\n",
    "print(s)\n",
    "print('letters:',l)\n",
    "print('digit:',d)"
   ]
  },
  {
   "cell_type": "code",
   "execution_count": 47,
   "id": "73410615-c687-40fe-97c5-7e9314fb1289",
   "metadata": {},
   "outputs": [
    {
     "name": "stdout",
     "output_type": "stream",
     "text": [
      "Hello\n"
     ]
    },
    {
     "data": {
      "text/plain": [
       "'olleH'"
      ]
     },
     "execution_count": 47,
     "metadata": {},
     "output_type": "execute_result"
    }
   ],
   "source": [
    "#reversing the string\n",
    "str='Hello'\n",
    "print(str)\n",
    "a=str[::-1]\n",
    "a"
   ]
  },
  {
   "cell_type": "raw",
   "id": "24bed7e9-83fc-4fd5-9713-55ecb10e5adf",
   "metadata": {},
   "source": [
    "Lists \n",
    "A data structure in python that is mutable or changable,ordered sequence of elements in square brackets [  ].\n",
    "lists are sequence of elements in a set of square brackets [.....]\n",
    "or also created by list() function"
   ]
  },
  {
   "cell_type": "code",
   "execution_count": 48,
   "id": "58f9536e-f7b1-4fe4-b3bc-c54243bdeb2e",
   "metadata": {},
   "outputs": [
    {
     "data": {
      "text/plain": [
       "[12, 3, 4, 6, 23]"
      ]
     },
     "execution_count": 48,
     "metadata": {},
     "output_type": "execute_result"
    }
   ],
   "source": [
    "l=[12,3,4,6,23]\n",
    "l"
   ]
  },
  {
   "cell_type": "raw",
   "id": "d70d160f-7daa-4d70-b6c7-a13be4254207",
   "metadata": {},
   "source": [
    "lists have various operations \n",
    "append():adds an element at the end of the created list already.\n",
    "extend():addsmore than one element or the list at the end of the list created already.\n",
    "insert():inserts the element at the given index place in the list.\n",
    "pop():delete the last element of the list.\n",
    "remove():removes the first occurence of provided element if present in the list."
   ]
  },
  {
   "cell_type": "code",
   "execution_count": 49,
   "id": "33721eff-f21c-4b15-a8f4-a7bea68fd535",
   "metadata": {},
   "outputs": [
    {
     "data": {
      "text/plain": [
       "[12, 3, 4, 6, 23, 'shlok']"
      ]
     },
     "execution_count": 49,
     "metadata": {},
     "output_type": "execute_result"
    }
   ],
   "source": [
    "l.append('shlok')\n",
    "l"
   ]
  },
  {
   "cell_type": "code",
   "execution_count": 50,
   "id": "5cff0a85-4b1c-45ac-a560-a0689814d0dc",
   "metadata": {},
   "outputs": [
    {
     "data": {
      "text/plain": [
       "[12, 3, 4, 6, 23, 'shlok', 12, 2]"
      ]
     },
     "execution_count": 50,
     "metadata": {},
     "output_type": "execute_result"
    }
   ],
   "source": [
    "l.extend([12,2])\n",
    "l"
   ]
  },
  {
   "cell_type": "code",
   "execution_count": 51,
   "id": "6106e5b8-408c-4a59-9d83-d647a2428660",
   "metadata": {},
   "outputs": [
    {
     "data": {
      "text/plain": [
       "[12, 3, 4, 13, 6, 23, 'shlok', 12, 2]"
      ]
     },
     "execution_count": 51,
     "metadata": {},
     "output_type": "execute_result"
    }
   ],
   "source": [
    "l.insert(3,13)\n",
    "l"
   ]
  },
  {
   "cell_type": "code",
   "execution_count": 52,
   "id": "096c7fd3-07fb-4d90-a247-f9dc2a15851a",
   "metadata": {},
   "outputs": [
    {
     "data": {
      "text/plain": [
       "[12, 3, 4, 13, 6, 23, 'shlok', 12]"
      ]
     },
     "execution_count": 52,
     "metadata": {},
     "output_type": "execute_result"
    }
   ],
   "source": [
    "l.pop()\n",
    "l"
   ]
  },
  {
   "cell_type": "code",
   "execution_count": 53,
   "id": "977536c3-8872-40c8-acb7-619e6047dfa0",
   "metadata": {},
   "outputs": [
    {
     "data": {
      "text/plain": [
       "3"
      ]
     },
     "execution_count": 53,
     "metadata": {},
     "output_type": "execute_result"
    }
   ],
   "source": [
    "#also able to pop element at specific index\n",
    "l.pop(1)"
   ]
  },
  {
   "cell_type": "code",
   "execution_count": 54,
   "id": "60c6f902-e89d-434a-bda9-10da4ff2e952",
   "metadata": {},
   "outputs": [
    {
     "data": {
      "text/plain": [
       "[12, 4, 13, 6, 23, 'shlok', 12]"
      ]
     },
     "execution_count": 54,
     "metadata": {},
     "output_type": "execute_result"
    }
   ],
   "source": [
    "l"
   ]
  },
  {
   "cell_type": "code",
   "execution_count": 55,
   "id": "e96a1a86-20f1-4bf7-90f1-6e105f4f55cd",
   "metadata": {},
   "outputs": [
    {
     "data": {
      "text/plain": [
       "[4, 13, 6, 23, 'shlok', 12]"
      ]
     },
     "execution_count": 55,
     "metadata": {},
     "output_type": "execute_result"
    }
   ],
   "source": [
    "l.remove(12)\n",
    "l"
   ]
  },
  {
   "cell_type": "raw",
   "id": "cf217163-b2bc-46b2-be95-3b1623a75aac",
   "metadata": {},
   "source": [
    "Nested List"
   ]
  },
  {
   "cell_type": "code",
   "execution_count": 56,
   "id": "300a17c5-45b2-4b71-9d2b-6b1b5ef80471",
   "metadata": {},
   "outputs": [
    {
     "data": {
      "text/plain": [
       "['ashok', 12, ['shantanu', 'alok', [2, 6, 'kalpesh'], 'rishabh'], 26]"
      ]
     },
     "execution_count": 56,
     "metadata": {},
     "output_type": "execute_result"
    }
   ],
   "source": [
    "list=['ashok',12,['shantanu','alok',[2,6,'kalpesh'],'rishabh'],26]\n",
    "list"
   ]
  },
  {
   "cell_type": "code",
   "execution_count": 57,
   "id": "c955bb1a-4a34-489a-8963-44e783b62949",
   "metadata": {},
   "outputs": [
    {
     "data": {
      "text/plain": [
       "['shantanu', 'alok', [2, 6, 'kalpesh'], 'rishabh']"
      ]
     },
     "execution_count": 57,
     "metadata": {},
     "output_type": "execute_result"
    }
   ],
   "source": [
    "list[2]"
   ]
  },
  {
   "cell_type": "code",
   "execution_count": 58,
   "id": "9d4711f0-3d7c-4928-9803-9a8ea032cc63",
   "metadata": {},
   "outputs": [
    {
     "data": {
      "text/plain": [
       "'ashok'"
      ]
     },
     "execution_count": 58,
     "metadata": {},
     "output_type": "execute_result"
    }
   ],
   "source": [
    "list[0]"
   ]
  },
  {
   "cell_type": "code",
   "execution_count": 59,
   "id": "1ef351f5-9220-41d9-8c64-28368c4a666b",
   "metadata": {},
   "outputs": [
    {
     "data": {
      "text/plain": [
       "[2, 6, 'kalpesh']"
      ]
     },
     "execution_count": 59,
     "metadata": {},
     "output_type": "execute_result"
    }
   ],
   "source": [
    "list[2][2]"
   ]
  },
  {
   "cell_type": "code",
   "execution_count": 60,
   "id": "f1606fa8-a6b5-49aa-88f5-e2a6cd7e8c5e",
   "metadata": {},
   "outputs": [
    {
     "data": {
      "text/plain": [
       "'kalpesh'"
      ]
     },
     "execution_count": 60,
     "metadata": {},
     "output_type": "execute_result"
    }
   ],
   "source": [
    "list[2][2][2]"
   ]
  },
  {
   "cell_type": "code",
   "execution_count": 61,
   "id": "7fc62de0-fc64-4c62-86f8-f905287fd36a",
   "metadata": {},
   "outputs": [
    {
     "data": {
      "text/plain": [
       "'rishabh'"
      ]
     },
     "execution_count": 61,
     "metadata": {},
     "output_type": "execute_result"
    }
   ],
   "source": [
    "list[2][3]"
   ]
  },
  {
   "cell_type": "code",
   "execution_count": 62,
   "id": "cd88e934-3b83-4020-8cf4-0e0bded1b328",
   "metadata": {},
   "outputs": [
    {
     "data": {
      "text/plain": [
       "26"
      ]
     },
     "execution_count": 62,
     "metadata": {},
     "output_type": "execute_result"
    }
   ],
   "source": [
    "list[3]"
   ]
  },
  {
   "cell_type": "raw",
   "id": "8c393411-2011-4a51-afd1-9926ced21aa4",
   "metadata": {},
   "source": [
    "Dictionaries\n",
    "Dictionaries created under {...} in key values pairs.\n",
    "Dictionary elements are ordered,changable and does not allows duplicated values.\n",
    "also create using dict() function."
   ]
  },
  {
   "cell_type": "code",
   "execution_count": 63,
   "id": "d8c63117-f39e-4292-bb0a-26cb8db0cccb",
   "metadata": {},
   "outputs": [
    {
     "data": {
      "text/plain": [
       "{'a1': 'alok', 'a2': 'shantanu', 'a3': 'rishabh'}"
      ]
     },
     "execution_count": 63,
     "metadata": {},
     "output_type": "execute_result"
    }
   ],
   "source": [
    "dict={'a1':'alok','a2':'shantanu','a3':'rishabh'}\n",
    "dict"
   ]
  },
  {
   "cell_type": "code",
   "execution_count": 64,
   "id": "1d4f6bf2-3f90-457e-93bf-374f3de4b113",
   "metadata": {},
   "outputs": [
    {
     "data": {
      "text/plain": [
       "'shantanu'"
      ]
     },
     "execution_count": 64,
     "metadata": {},
     "output_type": "execute_result"
    }
   ],
   "source": [
    "dict['a2'] #here 2 is not an index it is a key of dictionary."
   ]
  },
  {
   "cell_type": "code",
   "execution_count": 65,
   "id": "ec58cdbf-41f7-4e29-a668-e800aed61a49",
   "metadata": {},
   "outputs": [
    {
     "data": {
      "text/plain": [
       "{'s1': {'name': 'shubham'}, 's2': {'name': 'arjun'}}"
      ]
     },
     "execution_count": 65,
     "metadata": {},
     "output_type": "execute_result"
    }
   ],
   "source": [
    "d={'s1':{'name':'shubham'},'s2':{'name':'arjun'}}\n",
    "d"
   ]
  },
  {
   "cell_type": "code",
   "execution_count": 66,
   "id": "0816c13c-0ae1-484e-9f80-7692986aeaa9",
   "metadata": {},
   "outputs": [
    {
     "data": {
      "text/plain": [
       "{'name': 'shubham'}"
      ]
     },
     "execution_count": 66,
     "metadata": {},
     "output_type": "execute_result"
    }
   ],
   "source": [
    "d['s1']"
   ]
  },
  {
   "cell_type": "code",
   "execution_count": 67,
   "id": "d902182a-5ee5-4479-84b6-6a10689dbd5b",
   "metadata": {},
   "outputs": [
    {
     "data": {
      "text/plain": [
       "'arjun'"
      ]
     },
     "execution_count": 67,
     "metadata": {},
     "output_type": "execute_result"
    }
   ],
   "source": [
    "d['s2']['name']"
   ]
  },
  {
   "cell_type": "code",
   "execution_count": 68,
   "id": "8b9665d4-eb51-48f1-9d43-8dc090988940",
   "metadata": {},
   "outputs": [
    {
     "data": {
      "text/plain": [
       "dict_keys(['s1', 's2'])"
      ]
     },
     "execution_count": 68,
     "metadata": {},
     "output_type": "execute_result"
    }
   ],
   "source": [
    "d.keys()"
   ]
  },
  {
   "cell_type": "code",
   "execution_count": 69,
   "id": "abb86fc7-c5c4-4086-831b-a1a5708145be",
   "metadata": {},
   "outputs": [
    {
     "data": {
      "text/plain": [
       "{'s1': {'marks': [12, 13, 15, 14]}, 's2': {'marks': [13, 13, 12, 15]}}"
      ]
     },
     "execution_count": 69,
     "metadata": {},
     "output_type": "execute_result"
    }
   ],
   "source": [
    "stud={'s1':{'marks':[12,13,15,14]},'s2':{'marks':[13,13,12,15]}}\n",
    "stud"
   ]
  },
  {
   "cell_type": "code",
   "execution_count": 70,
   "id": "503c8abb-c61a-4c4d-be17-b1b1e5a610c5",
   "metadata": {},
   "outputs": [
    {
     "data": {
      "text/plain": [
       "dict_items([('s1', {'marks': [12, 13, 15, 14]}), ('s2', {'marks': [13, 13, 12, 15]})])"
      ]
     },
     "execution_count": 70,
     "metadata": {},
     "output_type": "execute_result"
    }
   ],
   "source": [
    "stud.items()"
   ]
  },
  {
   "cell_type": "code",
   "execution_count": 71,
   "id": "ada0558b-e146-4125-b318-b6225e28b158",
   "metadata": {},
   "outputs": [
    {
     "data": {
      "text/plain": [
       "dict_keys(['s1', 's2'])"
      ]
     },
     "execution_count": 71,
     "metadata": {},
     "output_type": "execute_result"
    }
   ],
   "source": [
    "stud.keys()"
   ]
  },
  {
   "cell_type": "code",
   "execution_count": 72,
   "id": "d1069503-c23d-41f6-be88-11fd5f45b8a8",
   "metadata": {},
   "outputs": [
    {
     "data": {
      "text/plain": [
       "dict_values([{'marks': [12, 13, 15, 14]}, {'marks': [13, 13, 12, 15]}])"
      ]
     },
     "execution_count": 72,
     "metadata": {},
     "output_type": "execute_result"
    }
   ],
   "source": [
    "stud.values()"
   ]
  },
  {
   "cell_type": "code",
   "execution_count": 73,
   "id": "e1d4c492-64ec-4426-b6e1-e20c10eb7137",
   "metadata": {},
   "outputs": [
    {
     "data": {
      "text/plain": [
       "15"
      ]
     },
     "execution_count": 73,
     "metadata": {},
     "output_type": "execute_result"
    }
   ],
   "source": [
    "stud['s1']['marks'][2]"
   ]
  },
  {
   "cell_type": "code",
   "execution_count": 74,
   "id": "f9bdd534-6dc0-4a30-a915-8b915d9e8518",
   "metadata": {},
   "outputs": [
    {
     "data": {
      "text/plain": [
       "13"
      ]
     },
     "execution_count": 74,
     "metadata": {},
     "output_type": "execute_result"
    }
   ],
   "source": [
    "stud['s2']['marks'][0]"
   ]
  },
  {
   "cell_type": "code",
   "execution_count": 75,
   "id": "280198f0-f91b-45e6-88ca-46ae736ef64f",
   "metadata": {},
   "outputs": [
    {
     "data": {
      "text/plain": [
       "[12, 13, 15, 14]"
      ]
     },
     "execution_count": 75,
     "metadata": {},
     "output_type": "execute_result"
    }
   ],
   "source": [
    "stud['s1']['marks']"
   ]
  },
  {
   "cell_type": "raw",
   "id": "238adf80-65ce-41ab-9707-9fba34620690",
   "metadata": {},
   "source": [
    "Tuples\n",
    "Tuples which is immutable unchangable elements in ( ).\n",
    "a tuple is similar to list,just instead of square brackets it uses parantheses "
   ]
  },
  {
   "cell_type": "code",
   "execution_count": 76,
   "id": "eef04249-d075-4f18-ba53-b7da1fbf1e12",
   "metadata": {},
   "outputs": [
    {
     "data": {
      "text/plain": [
       "(1, 2, 3)"
      ]
     },
     "execution_count": 76,
     "metadata": {},
     "output_type": "execute_result"
    }
   ],
   "source": [
    "t = (1,2,3) \n",
    "t"
   ]
  },
  {
   "cell_type": "code",
   "execution_count": 77,
   "id": "840d9d94-340f-46cc-a01c-b7f04546e8dc",
   "metadata": {},
   "outputs": [
    {
     "data": {
      "text/plain": [
       "2"
      ]
     },
     "execution_count": 77,
     "metadata": {},
     "output_type": "execute_result"
    }
   ],
   "source": [
    "t[1]"
   ]
  },
  {
   "cell_type": "raw",
   "id": "c02d6452-3927-4516-9ef1-d22420ddac83",
   "metadata": {},
   "source": [
    "t[2]='yogesh' \n",
    "it gives error \n",
    "this is bcoz tuples are immutable and they do not support item assignment and lists  are mutable it support item assignment "
   ]
  },
  {
   "cell_type": "code",
   "execution_count": 78,
   "id": "11aa5416-4307-48d2-8ee5-03e243800f75",
   "metadata": {},
   "outputs": [
    {
     "data": {
      "text/plain": [
       "(12, 2, [1, 5, 'sham'], 8)"
      ]
     },
     "execution_count": 78,
     "metadata": {},
     "output_type": "execute_result"
    }
   ],
   "source": [
    "t=(12,2,[1,5,'sham'],8)\n",
    "t"
   ]
  },
  {
   "cell_type": "code",
   "execution_count": 79,
   "id": "aa648dd2-920d-4cf5-9804-eb375d7c88f7",
   "metadata": {},
   "outputs": [
    {
     "data": {
      "text/plain": [
       "[1, 5, 'sham']"
      ]
     },
     "execution_count": 79,
     "metadata": {},
     "output_type": "execute_result"
    }
   ],
   "source": [
    "t[2]"
   ]
  },
  {
   "cell_type": "code",
   "execution_count": 80,
   "id": "5a3c7f47-76f8-4ba8-a20b-1c81e30b79a7",
   "metadata": {},
   "outputs": [
    {
     "data": {
      "text/plain": [
       "'sham'"
      ]
     },
     "execution_count": 80,
     "metadata": {},
     "output_type": "execute_result"
    }
   ],
   "source": [
    "t[2][2]"
   ]
  },
  {
   "cell_type": "code",
   "execution_count": 81,
   "id": "d1c9bfef-8b51-4220-b38f-6049f98cd445",
   "metadata": {},
   "outputs": [
    {
     "name": "stdout",
     "output_type": "stream",
     "text": [
      "(8, [1, 5, 'sham'], 2, 12)\n"
     ]
    }
   ],
   "source": [
    "r_t=reversed(t)\n",
    "print(tuple(r_t))"
   ]
  },
  {
   "cell_type": "code",
   "execution_count": 82,
   "id": "05cf3012-c708-4459-944c-c2ec19c500cd",
   "metadata": {},
   "outputs": [
    {
     "data": {
      "text/plain": [
       "(20, 'rajesh', 'karn')"
      ]
     },
     "execution_count": 82,
     "metadata": {},
     "output_type": "execute_result"
    }
   ],
   "source": [
    "tup=(20,'rajesh','karn')\n",
    "tup"
   ]
  },
  {
   "cell_type": "code",
   "execution_count": 83,
   "id": "8a178a1b-5045-4836-ac3b-6797704aedf7",
   "metadata": {},
   "outputs": [
    {
     "data": {
      "text/plain": [
       "('karn', 'rajesh', 20)"
      ]
     },
     "execution_count": 83,
     "metadata": {},
     "output_type": "execute_result"
    }
   ],
   "source": [
    "tup[::-1]"
   ]
  },
  {
   "cell_type": "code",
   "execution_count": 84,
   "id": "f21a763a-d270-4223-84e6-a4fd941e5c87",
   "metadata": {},
   "outputs": [
    {
     "data": {
      "text/plain": [
       "(12, 3, 5, 7)"
      ]
     },
     "execution_count": 84,
     "metadata": {},
     "output_type": "execute_result"
    }
   ],
   "source": [
    "t=(12,3,5,7)\n",
    "t"
   ]
  },
  {
   "cell_type": "code",
   "execution_count": 85,
   "id": "d5a2a8cc-ab59-4b87-895f-67d755767430",
   "metadata": {},
   "outputs": [
    {
     "data": {
      "text/plain": [
       "(3, 5, 7, 12)"
      ]
     },
     "execution_count": 85,
     "metadata": {},
     "output_type": "execute_result"
    }
   ],
   "source": [
    "t=tuple(sorted(t))\n",
    "t"
   ]
  },
  {
   "cell_type": "code",
   "execution_count": 86,
   "id": "001580ac-dab7-4fb6-9389-5a9cb5329214",
   "metadata": {},
   "outputs": [
    {
     "data": {
      "text/plain": [
       "('p', 'y', 't', 'h', 'o', 'n')"
      ]
     },
     "execution_count": 86,
     "metadata": {},
     "output_type": "execute_result"
    }
   ],
   "source": [
    "sub=('p','y','t','h','o','n')\n",
    "sub"
   ]
  },
  {
   "cell_type": "code",
   "execution_count": 87,
   "id": "821c376c-dfb0-4adc-a58d-b7471b6fda40",
   "metadata": {},
   "outputs": [
    {
     "name": "stdout",
     "output_type": "stream",
     "text": [
      "python\n"
     ]
    }
   ],
   "source": [
    "subject=''.join(sub)\n",
    "print(subject)"
   ]
  },
  {
   "cell_type": "raw",
   "id": "2dd1ff15-132f-4da1-8ba6-31dd8c409836",
   "metadata": {},
   "source": [
    "Set\n",
    "Set is a collection of unique elements.\n",
    "Sets are used to store multiple values in a single variable.\n",
    "A setis a collection which is unordered,unchangable (immutable), and unindexed.\n",
    "there is a set() function to create the set."
   ]
  },
  {
   "cell_type": "code",
   "execution_count": 88,
   "id": "1433b5d6-f4c9-4fb7-8e45-90973d52061b",
   "metadata": {},
   "outputs": [
    {
     "data": {
      "text/plain": [
       "{1, 2, 3, 5, 12, 13}"
      ]
     },
     "execution_count": 88,
     "metadata": {},
     "output_type": "execute_result"
    }
   ],
   "source": [
    "A={12,13,1,1,2,3,13,12,5}\n",
    "A"
   ]
  },
  {
   "cell_type": "code",
   "execution_count": 89,
   "id": "f481c415-9204-4d98-ab67-165e36f2e0c1",
   "metadata": {},
   "outputs": [
    {
     "data": {
      "text/plain": [
       "set"
      ]
     },
     "execution_count": 89,
     "metadata": {},
     "output_type": "execute_result"
    }
   ],
   "source": [
    "type(A)"
   ]
  },
  {
   "cell_type": "code",
   "execution_count": 90,
   "id": "83c5c932-5a4c-4dbe-a5d1-bc50b79dc896",
   "metadata": {},
   "outputs": [
    {
     "data": {
      "text/plain": [
       "{2, 3, 4, 7, 12}"
      ]
     },
     "execution_count": 90,
     "metadata": {},
     "output_type": "execute_result"
    }
   ],
   "source": [
    "B=set([12,4,3,2,7,2])\n",
    "B"
   ]
  },
  {
   "cell_type": "code",
   "execution_count": 91,
   "id": "54ecd931-a1bf-4104-8c37-c96dabf723dc",
   "metadata": {},
   "outputs": [],
   "source": [
    "B.add(6)"
   ]
  },
  {
   "cell_type": "code",
   "execution_count": 92,
   "id": "1e75aad4-8c20-4c9b-93e3-3bd6a0b05d65",
   "metadata": {},
   "outputs": [
    {
     "data": {
      "text/plain": [
       "{2, 3, 4, 6, 7, 12}"
      ]
     },
     "execution_count": 92,
     "metadata": {},
     "output_type": "execute_result"
    }
   ],
   "source": [
    "B"
   ]
  },
  {
   "cell_type": "code",
   "execution_count": 93,
   "id": "5e3f5604-afff-4c46-b3f2-643fbc7161b2",
   "metadata": {},
   "outputs": [],
   "source": [
    "S1={12,14,13,2,1}\n",
    "S2={12,4,1,13,5}"
   ]
  },
  {
   "cell_type": "code",
   "execution_count": 94,
   "id": "fce21580-7032-47d8-9ba3-dbdb8a5aa264",
   "metadata": {},
   "outputs": [
    {
     "data": {
      "text/plain": [
       "{1, 2, 4, 5, 12, 13, 14}"
      ]
     },
     "execution_count": 94,
     "metadata": {},
     "output_type": "execute_result"
    }
   ],
   "source": [
    "#finding union\n",
    "S1.union(S2)"
   ]
  },
  {
   "cell_type": "code",
   "execution_count": 95,
   "id": "d516e958-5b53-4add-8b85-4eee8ad4163a",
   "metadata": {},
   "outputs": [
    {
     "name": "stdout",
     "output_type": "stream",
     "text": [
      "{1, 2, 4, 5, 12, 13, 14}\n"
     ]
    }
   ],
   "source": [
    "print(S1|S2)"
   ]
  },
  {
   "cell_type": "code",
   "execution_count": 96,
   "id": "70ccb377-6077-4649-8a28-c28b9b1fe34b",
   "metadata": {},
   "outputs": [
    {
     "data": {
      "text/plain": [
       "{1, 12, 13}"
      ]
     },
     "execution_count": 96,
     "metadata": {},
     "output_type": "execute_result"
    }
   ],
   "source": [
    "#finding intersection\n",
    "S1.intersection(S2)"
   ]
  },
  {
   "cell_type": "code",
   "execution_count": 97,
   "id": "2c8869f5-a41f-4a6d-93dc-529d050af32f",
   "metadata": {},
   "outputs": [
    {
     "data": {
      "text/plain": [
       "{1, 12, 13}"
      ]
     },
     "execution_count": 97,
     "metadata": {},
     "output_type": "execute_result"
    }
   ],
   "source": [
    "(S1&S2)"
   ]
  },
  {
   "cell_type": "code",
   "execution_count": 98,
   "id": "e6568f7c-38be-4d9a-8267-b5bdc20fb841",
   "metadata": {},
   "outputs": [
    {
     "data": {
      "text/plain": [
       "{2, 14}"
      ]
     },
     "execution_count": 98,
     "metadata": {},
     "output_type": "execute_result"
    }
   ],
   "source": [
    "#finding difference\n",
    "S1-S2"
   ]
  },
  {
   "cell_type": "code",
   "execution_count": 99,
   "id": "2d2a642c-c1d6-40ff-a929-0b1d29a5806a",
   "metadata": {},
   "outputs": [
    {
     "data": {
      "text/plain": [
       "{2, 14}"
      ]
     },
     "execution_count": 99,
     "metadata": {},
     "output_type": "execute_result"
    }
   ],
   "source": [
    "S1.difference(S2)"
   ]
  },
  {
   "cell_type": "code",
   "execution_count": 100,
   "id": "ae6fea16-c92c-44f2-998e-fd35b5a6b14d",
   "metadata": {},
   "outputs": [
    {
     "data": {
      "text/plain": [
       "{2, 4, 5, 14}"
      ]
     },
     "execution_count": 100,
     "metadata": {},
     "output_type": "execute_result"
    }
   ],
   "source": [
    "#finding symmetric difference\n",
    "S1^S2"
   ]
  },
  {
   "cell_type": "code",
   "execution_count": 101,
   "id": "11250a54-5cc8-48b1-b854-78d3af9bb3af",
   "metadata": {},
   "outputs": [
    {
     "data": {
      "text/plain": [
       "{2, 4, 5, 14}"
      ]
     },
     "execution_count": 101,
     "metadata": {},
     "output_type": "execute_result"
    }
   ],
   "source": [
    "S1.symmetric_difference(S2)"
   ]
  },
  {
   "cell_type": "code",
   "execution_count": 102,
   "id": "a57aa332-68c2-4c56-bfd3-7120e4fab12f",
   "metadata": {},
   "outputs": [
    {
     "data": {
      "text/plain": [
       "{1, 2, 12, 13, 14}"
      ]
     },
     "execution_count": 102,
     "metadata": {},
     "output_type": "execute_result"
    }
   ],
   "source": [
    "S3=S1.copy()\n",
    "S3"
   ]
  },
  {
   "cell_type": "raw",
   "id": "38c7e7c3-b183-47bc-b05f-b786385fa447",
   "metadata": {},
   "source": [
    "Comparison Operators"
   ]
  },
  {
   "cell_type": "code",
   "execution_count": 103,
   "id": "63eb15af-cd5c-469e-994d-842b9c88bcc0",
   "metadata": {},
   "outputs": [
    {
     "data": {
      "text/plain": [
       "False"
      ]
     },
     "execution_count": 103,
     "metadata": {},
     "output_type": "execute_result"
    }
   ],
   "source": [
    "1>2"
   ]
  },
  {
   "cell_type": "code",
   "execution_count": 104,
   "id": "bdb6a44d-a755-4c0d-a4b2-9ceed6fbe192",
   "metadata": {},
   "outputs": [
    {
     "data": {
      "text/plain": [
       "True"
      ]
     },
     "execution_count": 104,
     "metadata": {},
     "output_type": "execute_result"
    }
   ],
   "source": [
    "2<=3"
   ]
  },
  {
   "cell_type": "code",
   "execution_count": 105,
   "id": "4cb256ff-7c77-460e-a21e-57b0cc54fee3",
   "metadata": {},
   "outputs": [
    {
     "data": {
      "text/plain": [
       "True"
      ]
     },
     "execution_count": 105,
     "metadata": {},
     "output_type": "execute_result"
    }
   ],
   "source": [
    "5!=1"
   ]
  },
  {
   "cell_type": "code",
   "execution_count": 106,
   "id": "61c9f588-e947-4be4-9890-3bef18924428",
   "metadata": {},
   "outputs": [
    {
     "data": {
      "text/plain": [
       "False"
      ]
     },
     "execution_count": 106,
     "metadata": {},
     "output_type": "execute_result"
    }
   ],
   "source": [
    "5==2"
   ]
  },
  {
   "cell_type": "code",
   "execution_count": 107,
   "id": "8b3189c4-8cbc-42a2-9b74-b73cb6981f0f",
   "metadata": {},
   "outputs": [
    {
     "data": {
      "text/plain": [
       "True"
      ]
     },
     "execution_count": 107,
     "metadata": {},
     "output_type": "execute_result"
    }
   ],
   "source": [
    "16==16"
   ]
  },
  {
   "cell_type": "code",
   "execution_count": 108,
   "id": "0d9228be-eab6-47e7-b893-1e8d98b316d9",
   "metadata": {},
   "outputs": [
    {
     "data": {
      "text/plain": [
       "False"
      ]
     },
     "execution_count": 108,
     "metadata": {},
     "output_type": "execute_result"
    }
   ],
   "source": [
    "'hello'=='Hello'"
   ]
  },
  {
   "cell_type": "code",
   "execution_count": 109,
   "id": "0287f813-fad6-4ecc-9d4d-6d2ab08292ba",
   "metadata": {},
   "outputs": [
    {
     "data": {
      "text/plain": [
       "True"
      ]
     },
     "execution_count": 109,
     "metadata": {},
     "output_type": "execute_result"
    }
   ],
   "source": [
    "'hi'=='hi'"
   ]
  },
  {
   "cell_type": "code",
   "execution_count": 110,
   "id": "9dd9d6ff-15f0-4db6-92a4-10ae7a9c0903",
   "metadata": {},
   "outputs": [
    {
     "data": {
      "text/plain": [
       "False"
      ]
     },
     "execution_count": 110,
     "metadata": {},
     "output_type": "execute_result"
    }
   ],
   "source": [
    "'sam'!='sam'"
   ]
  },
  {
   "cell_type": "raw",
   "id": "184dc9ee-4c12-4d6d-8ae4-fcba46f77b94",
   "metadata": {},
   "source": [
    "Logical operators"
   ]
  },
  {
   "cell_type": "code",
   "execution_count": 111,
   "id": "e7cd5a4a-6163-4f88-a350-377d0215a75e",
   "metadata": {},
   "outputs": [
    {
     "data": {
      "text/plain": [
       "False"
      ]
     },
     "execution_count": 111,
     "metadata": {},
     "output_type": "execute_result"
    }
   ],
   "source": [
    "(1 > 2) and (2 < 3)"
   ]
  },
  {
   "cell_type": "code",
   "execution_count": 112,
   "id": "64227416-8666-4792-9518-e683ce05d550",
   "metadata": {},
   "outputs": [
    {
     "data": {
      "text/plain": [
       "False"
      ]
     },
     "execution_count": 112,
     "metadata": {},
     "output_type": "execute_result"
    }
   ],
   "source": [
    "(1 > 2) & (2 < 3)"
   ]
  },
  {
   "cell_type": "code",
   "execution_count": 113,
   "id": "7b327f15-b401-4058-9323-f66bbc560d75",
   "metadata": {},
   "outputs": [
    {
     "data": {
      "text/plain": [
       "True"
      ]
     },
     "execution_count": 113,
     "metadata": {},
     "output_type": "execute_result"
    }
   ],
   "source": [
    "(1 > 2) | (2 < 3)"
   ]
  },
  {
   "cell_type": "code",
   "execution_count": 114,
   "id": "08b02f4d-91c8-4f5f-8519-217373d33ce3",
   "metadata": {},
   "outputs": [
    {
     "data": {
      "text/plain": [
       "True"
      ]
     },
     "execution_count": 114,
     "metadata": {},
     "output_type": "execute_result"
    }
   ],
   "source": [
    "(1 > 2) or (2 < 3)"
   ]
  },
  {
   "cell_type": "code",
   "execution_count": 115,
   "id": "b622f163-ba39-476a-9c25-bcf0751454de",
   "metadata": {},
   "outputs": [
    {
     "data": {
      "text/plain": [
       "False"
      ]
     },
     "execution_count": 115,
     "metadata": {},
     "output_type": "execute_result"
    }
   ],
   "source": [
    "(1 == 2) or (2 >= 3) and (4 == 4)"
   ]
  },
  {
   "cell_type": "raw",
   "id": "87cc7633-a85b-4b61-af50-118fafcfe118",
   "metadata": {},
   "source": [
    "range() - is a generator function"
   ]
  },
  {
   "cell_type": "code",
   "execution_count": 116,
   "id": "020058b8-5c8d-42dc-9dfe-9771ff86beba",
   "metadata": {},
   "outputs": [
    {
     "data": {
      "text/plain": [
       "range(0, 5)"
      ]
     },
     "execution_count": 116,
     "metadata": {},
     "output_type": "execute_result"
    }
   ],
   "source": [
    "range(5) #bydefault the starting number is zero"
   ]
  },
  {
   "cell_type": "code",
   "execution_count": 117,
   "id": "6d7b4c67-9753-4159-b57d-88eba952546b",
   "metadata": {},
   "outputs": [
    {
     "name": "stdout",
     "output_type": "stream",
     "text": [
      "0\n",
      "1\n",
      "2\n",
      "3\n",
      "4\n"
     ]
    }
   ],
   "source": [
    "for i in range(5):\n",
    "    print(i)"
   ]
  },
  {
   "cell_type": "raw",
   "id": "a8d9f642-25f5-4d4a-b77f-629fa1df6600",
   "metadata": {},
   "source": [
    "for loop"
   ]
  },
  {
   "cell_type": "code",
   "execution_count": 118,
   "id": "c32f09c1-dae9-4b4b-bb0f-efbfb47342ad",
   "metadata": {},
   "outputs": [
    {
     "name": "stdout",
     "output_type": "stream",
     "text": [
      "0\n",
      "1\n",
      "2\n",
      "3\n",
      "4\n",
      "5\n",
      "6\n",
      "7\n",
      "8\n",
      "9\n"
     ]
    }
   ],
   "source": [
    "#display number from 0-9\n",
    "for i in range(10):\n",
    "    print(i)"
   ]
  },
  {
   "cell_type": "code",
   "execution_count": 119,
   "id": "1f659ffb-bac7-43e5-8ad4-555a4ae374f1",
   "metadata": {},
   "outputs": [
    {
     "name": "stdout",
     "output_type": "stream",
     "text": [
      "sum is: 45\n"
     ]
    }
   ],
   "source": [
    "#display sum of numbers 0-9\n",
    "sum=0\n",
    "for i in range(10):\n",
    "    sum+=i\n",
    "print('sum is:',sum)"
   ]
  },
  {
   "cell_type": "code",
   "execution_count": 120,
   "id": "a3e05718-ffce-4f2d-a50b-54bde77a6d49",
   "metadata": {},
   "outputs": [
    {
     "name": "stdout",
     "output_type": "stream",
     "text": [
      "num is even\n",
      "num is odd\n",
      "num is even\n",
      "num is odd\n"
     ]
    }
   ],
   "source": [
    "#display num is even or odd 0-4\n",
    "for i in range(4):\n",
    "    if(i%2==0):\n",
    "        print('num is even')#+str(i))\n",
    "    else:\n",
    "        print('num is odd')#+str(i))"
   ]
  },
  {
   "cell_type": "code",
   "execution_count": 121,
   "id": "709f7b37-2f30-4ea8-8ad0-2920530677d0",
   "metadata": {},
   "outputs": [
    {
     "name": "stdout",
     "output_type": "stream",
     "text": [
      "sum of list is: 14\n",
      "average of list is: 3.5\n"
     ]
    }
   ],
   "source": [
    "#calculates average of number in given list\n",
    "lst=[2,3,4,5]\n",
    "sum=0\n",
    "for i in range(len(lst)):\n",
    "    sum+=lst[i]\n",
    "    avg=sum/len(lst)\n",
    "print('sum of list is:',sum)\n",
    "print('average of list is:',avg)"
   ]
  },
  {
   "cell_type": "code",
   "execution_count": 122,
   "id": "f0dc7813-7009-4dc1-9fc2-ca68ab2473df",
   "metadata": {},
   "outputs": [
    {
     "name": "stdin",
     "output_type": "stream",
     "text": [
      "enter the element: 12\n",
      "enter the element: 2\n",
      "enter the element: 3\n",
      "enter the element: 4\n",
      "enter the element: 13\n",
      "enter the element: 11\n"
     ]
    },
    {
     "name": "stdout",
     "output_type": "stream",
     "text": [
      "UNIQUE\n"
     ]
    }
   ],
   "source": [
    "#list accepts 6 integers and prints 'duplicate' if value entered is duplicate else prints 'unique'\n",
    "a=[]\n",
    "for i in range(6):\n",
    "    a.append(int(input('enter the element:')))\n",
    "if len(set(a))!=len(a):\n",
    "    print('DUPLICATE')\n",
    "else:\n",
    "    print('UNIQUE')"
   ]
  },
  {
   "cell_type": "code",
   "execution_count": 123,
   "id": "db72d9e5-5f57-4f5b-9df2-ad21926ed987",
   "metadata": {},
   "outputs": [
    {
     "name": "stdout",
     "output_type": "stream",
     "text": [
      "sum of digit 1345 is 13\n"
     ]
    }
   ],
   "source": [
    "#SUM OF DIGIT OF NUMBERS\n",
    "n=1345\n",
    "N=n\n",
    "sum=0\n",
    "while N>0:\n",
    "    digit=N%10\n",
    "    sum=sum+digit\n",
    "    N=N//10\n",
    "print('sum of digit {} is {}'.format(n,sum))"
   ]
  },
  {
   "cell_type": "code",
   "execution_count": 124,
   "id": "82661534-e57a-43b5-8c4c-c946f8ae86e8",
   "metadata": {},
   "outputs": [
    {
     "name": "stdout",
     "output_type": "stream",
     "text": [
      "1 2 3 5 8 13 21 34 55 89 \n"
     ]
    }
   ],
   "source": [
    "#fibonacci series\n",
    "n=10\n",
    "n1=0\n",
    "n2=1\n",
    "next=n2\n",
    "cnt=1\n",
    "while cnt<=n:\n",
    "    print(next,end=\" \")\n",
    "    cnt+=1\n",
    "    n1,n2=n2,next\n",
    "    next=n1+n2\n",
    "print()"
   ]
  },
  {
   "cell_type": "raw",
   "id": "ac89f51d-5201-4c71-9b42-0825a8518f3b",
   "metadata": {},
   "source": [
    "Thanks"
   ]
  }
 ],
 "metadata": {
  "kernelspec": {
   "display_name": "Python 3 (ipykernel)",
   "language": "python",
   "name": "python3"
  },
  "language_info": {
   "codemirror_mode": {
    "name": "ipython",
    "version": 3
   },
   "file_extension": ".py",
   "mimetype": "text/x-python",
   "name": "python",
   "nbconvert_exporter": "python",
   "pygments_lexer": "ipython3",
   "version": "3.12.1"
  }
 },
 "nbformat": 4,
 "nbformat_minor": 5
}
